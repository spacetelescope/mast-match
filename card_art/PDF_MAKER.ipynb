{
 "cells": [
  {
   "cell_type": "markdown",
   "id": "277df6fb",
   "metadata": {},
   "source": [
    "# PDF MAKER\n",
    "\n",
    "This notebook compiles the printable pdf version of the game!"
   ]
  },
  {
   "cell_type": "code",
   "execution_count": null,
   "id": "38b399ec",
   "metadata": {},
   "outputs": [],
   "source": [
    "import matplotlib.pyplot as plt\n",
    "from PIL import Image\n",
    "import numpy as np\n",
    "from pandas import read_csv\n",
    "from pathlib import Path"
   ]
  },
  {
   "cell_type": "code",
   "execution_count": null,
   "id": "e537a2d0",
   "metadata": {},
   "outputs": [],
   "source": [
    "all_pages = []\n",
    "front_pages = []\n",
    "back_pages = []\n",
    "\n",
    "def setup_pdf():\n",
    "    fig = plt.figure(dpi=300)\n",
    "    plt.xlim(0,8.5)\n",
    "    plt.ylim(0,11)\n",
    "    plt.axis('off')\n",
    "    # Standard 8.5x11 paper\n",
    "    fig.set_size_inches((8.5, 11))\n",
    "\n",
    "    # Guide lines for cutting\n",
    "    card_width = 2.5\n",
    "    buffer1 = (8.5 - 2.5*3)/4\n",
    "    for v in [buffer1, buffer1+card_width, \n",
    "            2*buffer1+card_width, 2*buffer1+2*card_width,\n",
    "            3*buffer1+2*card_width,3*buffer1+3*card_width]:\n",
    "        plt.axvline(v, c='k', linestyle=':',lw=1)\n",
    "\n",
    "    card_height = 3.5\n",
    "    buffer2 = (11 - 3.5*3)/4\n",
    "    for v in [buffer2, buffer2+card_height, \n",
    "            2*buffer2+card_height, 2*buffer2+2*card_height,\n",
    "            3*buffer2+2*card_height,3*buffer2+3*card_height]:\n",
    "        plt.axhline(v, c='k', linestyle=':',lw=1)\n",
    "\n",
    "    # Define extents\n",
    "    e1 = [buffer1, buffer1+card_width, 3*buffer2+2*card_height,3*buffer2+3*card_height]\n",
    "    e2 = [2*buffer1+card_width, 2*buffer1+2*card_width, 3*buffer2+2*card_height,3*buffer2+3*card_height]\n",
    "    e3 = [3*buffer1+2*card_width,3*buffer1+3*card_width, 3*buffer2+2*card_height, 3*buffer2+3*card_height]\n",
    "\n",
    "    e4 = [buffer1, buffer1+card_width, 2*buffer2+card_height, 2*buffer2+2*card_height]\n",
    "    e5 = [2*buffer1+card_width, 2*buffer1+2*card_width, 2*buffer2+card_height, 2*buffer2+2*card_height]\n",
    "    e6 = [3*buffer1+2*card_width,3*buffer1+3*card_width, 2*buffer2+card_height, 2*buffer2+2*card_height]\n",
    "\n",
    "    e7 = [buffer1, buffer1+card_width, buffer2, buffer2+card_height]\n",
    "    e8 = [2*buffer1+card_width, 2*buffer1+2*card_width, buffer2, buffer2+card_height]\n",
    "    e9 = [3*buffer1+2*card_width,3*buffer1+3*card_width, buffer2, buffer2+card_height]\n",
    "\n",
    "    return fig, [e1, e2, e3, e4, e5, e6, e7, e8, e9]\n",
    "\n",
    "\n",
    "def sub_lists(lst):\n",
    "    \"\"\"Yield successive n-sized chunks from lst.\"\"\"\n",
    "    n = 9\n",
    "    return [lst[i:i + n] for i in range(0, len(lst), n)]"
   ]
  },
  {
   "cell_type": "markdown",
   "id": "53463373",
   "metadata": {},
   "source": [
    "# Make List of all Cards"
   ]
  },
  {
   "cell_type": "code",
   "execution_count": null,
   "id": "aafa97ac",
   "metadata": {},
   "outputs": [],
   "source": [
    "card_fronts = []\n",
    "card_backs = []\n",
    "\n",
    "# Rule Cards - 4 copies\n",
    "cards = 4*['final_cards/rule_cards/' + x.name for x in Path('final_cards/rule_cards/').glob('*.png')]\n",
    "card_fronts += sorted(cards)\n",
    "card_backs += ['final_cards/card_backs/BACK_rules.png' for c in cards]\n",
    "\n",
    "# Telescope Cards\n",
    "cards = ['final_cards/telescope_cards/' + x.name for x in Path('final_cards/telescope_cards/').glob('*.png')]\n",
    "card_fronts += cards\n",
    "card_backs += ['final_cards/card_backs/BACK_telescope.png' for c in cards]\n",
    "\n",
    "# Observation Cards\n",
    "cards = ['final_cards/obs_cards/' + x.name for x in Path('final_cards/obs_cards/').glob('*.png')]\n",
    "card_fronts += cards\n",
    "card_backs += ['final_cards/card_backs/BACK_observation.png' for c in cards]\n",
    "\n",
    "# Science Goals\n",
    "cards = ['final_cards/goal_cards/' + x.name for x in Path('final_cards/goal_cards/').glob('*.png')]\n",
    "card_fronts += cards\n",
    "card_backs += ['final_cards/card_backs/BACK_goal.png' for c in cards]\n",
    "\n",
    "# Chaos Cards\n",
    "cards = ['final_cards/chaos_cards/' + x.name for x in Path('final_cards/chaos_cards/').glob('*.png')]\n",
    "card_fronts += cards\n",
    "card_backs += ['final_cards/card_backs/BACK_chaos.png' for c in cards]\n",
    "\n"
   ]
  },
  {
   "cell_type": "markdown",
   "id": "40ddcb1e",
   "metadata": {},
   "source": [
    "# Make Figures from the Cards"
   ]
  },
  {
   "cell_type": "code",
   "execution_count": null,
   "id": "702b69a0",
   "metadata": {},
   "outputs": [],
   "source": [
    "# Split up into pages of 9\n",
    "for i, cards in enumerate(sub_lists(card_fronts)):\n",
    "    # CARD FRONTS\n",
    "    fig, card_locs = setup_pdf()\n",
    "    for i, card in enumerate(cards):\n",
    "        img = Image.open(card).resize((1000,1400))\n",
    "        plt.imshow(img, extent = card_locs[i])\n",
    "    plt.tight_layout()\n",
    "    front_pages.append(fig)\n",
    "    plt.show()\n",
    "\n",
    "for i, cards in enumerate(sub_lists(card_backs)):\n",
    "    # CARD BACKS\n",
    "    fig, card_locs = setup_pdf()\n",
    "    e_reversed = [card_locs[2], card_locs[1], card_locs[0],\n",
    "                card_locs[5], card_locs[4], card_locs[3],\n",
    "                card_locs[8], card_locs[7], card_locs[6],\n",
    "                ] # reversed order for card backs\n",
    "    for i, card in enumerate(cards):\n",
    "        img = Image.open(card).resize((1000,1400))\n",
    "        plt.imshow(img, extent = e_reversed[i])\n",
    "\n",
    "    plt.tight_layout()\n",
    "    back_pages.append(fig)\n",
    "    plt.show()\n",
    "\n",
    "# all pages = alternate front and backs\n",
    "for i in range(len(front_pages)):\n",
    "    all_pages.append(front_pages[i])\n",
    "    all_pages.append(back_pages[i])\n",
    "\n"
   ]
  },
  {
   "cell_type": "markdown",
   "id": "b07efd71",
   "metadata": {},
   "source": [
    "# Save to one PDF\n",
    "This takes a few minutes to render."
   ]
  },
  {
   "cell_type": "code",
   "execution_count": null,
   "id": "f0b2175a",
   "metadata": {},
   "outputs": [],
   "source": [
    "from matplotlib.backends.backend_pdf import PdfPages\n",
    "\n",
    "# Collated PDF (front and backs on alternating pages)\n",
    "with PdfPages('../printable_pdf/MAST-Match_Collated.pdf') as pdf:\n",
    "    for fig in all_pages:\n",
    "        pdf.savefig(fig, dpi=300)\n",
    "\n",
    "# Card Fronts Only\n",
    "with PdfPages('../printable_pdf/MAST-Match_CardFronts.pdf') as pdf:\n",
    "    for fig in front_pages:\n",
    "        pdf.savefig(fig, dpi=300)\n",
    "\n",
    "# Card Backs Only\n",
    "with PdfPages('../printable_pdf/MAST-Match_CardBacks.pdf') as pdf:\n",
    "    for fig in back_pages:\n",
    "        pdf.savefig(fig, dpi=300)\n"
   ]
  },
  {
   "cell_type": "code",
   "execution_count": null,
   "id": "f77a673d",
   "metadata": {},
   "outputs": [],
   "source": [
    "print(f\"Total of {len(card_fronts)} cards on {len(front_pages)} pages!\")"
   ]
  },
  {
   "cell_type": "code",
   "execution_count": null,
   "id": "282460d8",
   "metadata": {},
   "outputs": [],
   "source": []
  }
 ],
 "metadata": {
  "kernelspec": {
   "display_name": "base",
   "language": "python",
   "name": "python3"
  },
  "language_info": {
   "codemirror_mode": {
    "name": "ipython",
    "version": 3
   },
   "file_extension": ".py",
   "mimetype": "text/x-python",
   "name": "python",
   "nbconvert_exporter": "python",
   "pygments_lexer": "ipython3",
   "version": "3.10.14"
  }
 },
 "nbformat": 4,
 "nbformat_minor": 5
}
